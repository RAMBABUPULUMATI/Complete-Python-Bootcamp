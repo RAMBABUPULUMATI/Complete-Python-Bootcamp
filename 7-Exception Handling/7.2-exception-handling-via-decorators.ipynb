{
 "cells": [
  {
   "cell_type": "code",
   "execution_count": 5,
   "id": "791c367e",
   "metadata": {},
   "outputs": [],
   "source": [
    "def exception_handling_decorator(func):\n",
    "    def wrapper(*args, **kwargs):\n",
    "        try:\n",
    "            return func(*args, **kwargs)\n",
    "        except ValueError as e:\n",
    "            print(\"ValueError occurred\")\n",
    "            print(f\"An error occurred: {e}\")\n",
    "        except ZeroDivisionError as e:\n",
    "            print(\"ZeroDivisionError occurred\")\n",
    "            print(f\"An error occurred: {e}\")\n",
    "        except TypeError as e:\n",
    "            print(\"TypeError occurred\")\n",
    "            print(f\"An error occurred: {e}\")\n",
    "        except Exception as e:\n",
    "            print(\"Some other error occurred\")\n",
    "            print(f\"An error occurred: {e}\")\n",
    "        finally:\n",
    "            print(\"************* Execution completed *************\")\n",
    "    return wrapper"
   ]
  },
  {
   "cell_type": "code",
   "execution_count": 18,
   "id": "8cbcef27",
   "metadata": {},
   "outputs": [
    {
     "name": "stdout",
     "output_type": "stream",
     "text": [
      "************* Execution completed *************\n",
      "5.0\n",
      "ZeroDivisionError occurred\n",
      "An error occurred: division by zero\n",
      "************* Execution completed *************\n",
      "None\n",
      "TypeError occurred\n",
      "An error occurred: unsupported operand type(s) for /: 'int' and 'str'\n",
      "************* Execution completed *************\n",
      "None\n",
      "TypeError occurred\n",
      "An error occurred: unsupported operand type(s) for /: 'int' and 'NoneType'\n",
      "************* Execution completed *************\n",
      "None\n",
      "TypeError occurred\n",
      "An error occurred: unsupported operand type(s) for /: 'int' and 'list'\n",
      "************* Execution completed *************\n",
      "None\n",
      "TypeError occurred\n",
      "An error occurred: unsupported operand type(s) for /: 'int' and 'dict'\n",
      "************* Execution completed *************\n",
      "None\n",
      "TypeError occurred\n",
      "An error occurred: unsupported operand type(s) for /: 'int' and 'tuple'\n",
      "************* Execution completed *************\n",
      "None\n",
      "************* Execution completed *************\n",
      "2.0\n",
      "************* Execution completed *************\n",
      "3.3333333333333335\n",
      "************* Execution completed *************\n",
      "-5.0\n"
     ]
    }
   ],
   "source": [
    "@exception_handling_decorator\n",
    "def divide(a, b):\n",
    "    return a / b\n",
    "print(divide(10, 2))  # Should print 5.0\n",
    "print(divide(10, 0))  # Should handle ZeroDivisionError\n",
    "print(divide(10, 'a'))  # Should handle TypeError\n",
    "print(divide(10, None))  # Should handle TypeError\n",
    "print(divide(10, []))  # Should handle TypeError\n",
    "print(divide(10, {}))  # Should handle TypeError\n",
    "print(divide(10, ()))  # Should handle TypeError\n",
    "\n",
    "print(divide(10, 5))  # Should print 2.0\n",
    "print(divide(10, 3))  # Should print approximately 3.3333\n",
    "print(divide(10, -2))  # Should print -5.0\n"
   ]
  },
  {
   "cell_type": "code",
   "execution_count": null,
   "id": "4c68f778",
   "metadata": {},
   "outputs": [],
   "source": []
  }
 ],
 "metadata": {
  "kernelspec": {
   "display_name": "Python 3",
   "language": "python",
   "name": "python3"
  },
  "language_info": {
   "codemirror_mode": {
    "name": "ipython",
    "version": 3
   },
   "file_extension": ".py",
   "mimetype": "text/x-python",
   "name": "python",
   "nbconvert_exporter": "python",
   "pygments_lexer": "ipython3",
   "version": "3.12.0"
  }
 },
 "nbformat": 4,
 "nbformat_minor": 5
}
