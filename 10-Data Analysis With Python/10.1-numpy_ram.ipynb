{
 "cells": [
  {
   "cell_type": "code",
   "execution_count": 3,
   "id": "080221ad",
   "metadata": {},
   "outputs": [
    {
     "name": "stdout",
     "output_type": "stream",
     "text": [
      "Requirement already satisfied: numpy in /Users/prambabu/ailearning/python/venv/lib/python3.12/site-packages (2.3.3)\n"
     ]
    }
   ],
   "source": [
    "!pip install numpy"
   ]
  },
  {
   "cell_type": "markdown",
   "id": "fb0bb996",
   "metadata": {},
   "source": [
    "## Difference between Lists and NumPy Arrays"
   ]
  },
  {
   "cell_type": "code",
   "execution_count": 4,
   "id": "382892aa",
   "metadata": {},
   "outputs": [
    {
     "name": "stdout",
     "output_type": "stream",
     "text": [
      "Python list: [1, 2, 3, 4, 5]\n",
      "NumPy array: [1 2 3 4 5]\n",
      "Type of Python list: <class 'list'>\n",
      "Type of NumPy array: <class 'numpy.ndarray'>\n"
     ]
    }
   ],
   "source": [
    "import numpy as np\n",
    "\n",
    "# Python list\n",
    "python_list = [1, 2, 3, 4, 5]\n",
    "\n",
    "# NumPy array\n",
    "numpy_array = np.array([1, 2, 3, 4, 5])\n",
    "\n",
    "print(\"Python list:\", python_list)\n",
    "print(\"NumPy array:\", numpy_array)\n",
    "print(\"Type of Python list:\", type(python_list))\n",
    "print(\"Type of NumPy array:\", type(numpy_array))"
   ]
  },
  {
   "cell_type": "markdown",
   "id": "0df51ee2",
   "metadata": {},
   "source": [
    "## Array Creation {#array-creation}"
   ]
  },
  {
   "cell_type": "markdown",
   "id": "3b1178c8",
   "metadata": {},
   "source": [
    "Creating Arrays from Lists"
   ]
  },
  {
   "cell_type": "code",
   "execution_count": 5,
   "id": "93b1f696",
   "metadata": {},
   "outputs": [
    {
     "name": "stdout",
     "output_type": "stream",
     "text": [
      "1D Array: [1 2 3 4 5]\n",
      "2D Array:\n",
      " [[1 2 3]\n",
      " [4 5 6]]\n",
      "3D Array:\n",
      " [[[1 2]\n",
      "  [3 4]]\n",
      "\n",
      " [[5 6]\n",
      "  [7 8]]]\n"
     ]
    }
   ],
   "source": [
    "import numpy as np\n",
    "\n",
    "# 1D Array\n",
    "arr1d = np.array([1, 2, 3, 4, 5])\n",
    "print(\"1D Array:\", arr1d)\n",
    "\n",
    "# 2D Array (Matrix)\n",
    "arr2d = np.array([[1, 2, 3], [4, 5, 6]])\n",
    "print(\"2D Array:\\n\", arr2d)\n",
    "\n",
    "# 3D Array\n",
    "arr3d = np.array([[[1, 2], [3, 4]], [[5, 6], [7, 8]]])\n",
    "print(\"3D Array:\\n\", arr3d)"
   ]
  },
  {
   "cell_type": "markdown",
   "id": "a35683c7",
   "metadata": {},
   "source": [
    "Special Array Creation Methods"
   ]
  },
  {
   "cell_type": "code",
   "execution_count": 6,
   "id": "4e0e039b",
   "metadata": {},
   "outputs": [
    {
     "name": "stdout",
     "output_type": "stream",
     "text": [
      "Zeros array:\n",
      " [[0. 0. 0. 0.]\n",
      " [0. 0. 0. 0.]\n",
      " [0. 0. 0. 0.]]\n",
      "Ones array:\n",
      " [[1. 1. 1.]\n",
      " [1. 1. 1.]]\n",
      "Identity matrix:\n",
      " [[1. 0. 0.]\n",
      " [0. 1. 0.]\n",
      " [0. 0. 1.]]\n",
      "Range array: [0 2 4 6 8]\n",
      "Linspace array: [0.   0.25 0.5  0.75 1.  ]\n",
      "Empty array:\n",
      " [[0.25 0.5 ]\n",
      " [0.75 1.  ]]\n",
      "Full array:\n",
      " [[7 7 7]\n",
      " [7 7 7]]\n",
      "Random array:\n",
      " [[0.77893914 0.31647412 0.92288582]\n",
      " [0.56108057 0.87751025 0.89820175]\n",
      " [0.2732728  0.46896369 0.31810719]]\n"
     ]
    }
   ],
   "source": [
    "# Arrays with zeros\n",
    "zeros_arr = np.zeros((3, 4))\n",
    "print(\"Zeros array:\\n\", zeros_arr)\n",
    "\n",
    "# Arrays with ones\n",
    "ones_arr = np.ones((2, 3))\n",
    "print(\"Ones array:\\n\", ones_arr)\n",
    "\n",
    "# Identity matrix\n",
    "identity_arr = np.eye(3)\n",
    "print(\"Identity matrix:\\n\", identity_arr)\n",
    "\n",
    "# Array with a range\n",
    "range_arr = np.arange(0, 10, 2)  # start, stop, step\n",
    "print(\"Range array:\", range_arr)\n",
    "\n",
    "# Array with linear spacing\n",
    "linspace_arr = np.linspace(0, 1, 5)  # start, stop, num_points\n",
    "print(\"Linspace array:\", linspace_arr)\n",
    "\n",
    "# Empty array (contains garbage values)\n",
    "empty_arr = np.empty((2, 2))\n",
    "print(\"Empty array:\\n\", empty_arr)\n",
    "\n",
    "# Full array with specific value\n",
    "full_arr = np.full((2, 3), 7)\n",
    "print(\"Full array:\\n\", full_arr)\n",
    "\n",
    "# Random array\n",
    "random_arr = np.random.random((3, 3))\n",
    "print(\"Random array:\\n\", random_arr)"
   ]
  },
  {
   "cell_type": "code",
   "execution_count": 11,
   "id": "345bf771",
   "metadata": {},
   "outputs": [
    {
     "name": "stdout",
     "output_type": "stream",
     "text": [
      "None\n",
      "Random array with seed:\n",
      " [[0.5488135  0.71518937 0.60276338]\n",
      " [0.54488318 0.4236548  0.64589411]\n",
      " [0.43758721 0.891773   0.96366276]]\n",
      "None\n",
      "Random array with seed:\n",
      " [[4.17022005e-01 7.20324493e-01 1.14374817e-04]\n",
      " [3.02332573e-01 1.46755891e-01 9.23385948e-02]\n",
      " [1.86260211e-01 3.45560727e-01 3.96767474e-01]]\n"
     ]
    }
   ],
   "source": [
    "print(np.random.seed(0))  # For reproducibility\n",
    "print(\"Random array with seed:\\n\", np.random.random((3, 3)))\n",
    "print(np.random.seed(1))  # For reproducibility\n",
    "print(\"Random array with seed:\\n\", np.random.random((3, 3)))"
   ]
  },
  {
   "cell_type": "markdown",
   "id": "278bc336",
   "metadata": {},
   "source": [
    "## Array Attributes {#array-attributes}"
   ]
  },
  {
   "cell_type": "code",
   "execution_count": 16,
   "id": "0a81be29",
   "metadata": {},
   "outputs": [
    {
     "name": "stdout",
     "output_type": "stream",
     "text": [
      "Array:\n",
      " [[1 2 3]\n",
      " [4 5 6]\n",
      " [7 8 9]]\n",
      "Shape: (3, 3)\n",
      "Size: 9\n",
      "Number of dimensions: 2\n",
      "Data type: int64\n",
      "Item size (bytes): 8\n",
      "Total bytes: 72\n",
      "Strides: (24, 8)\n"
     ]
    }
   ],
   "source": [
    "import numpy as np\n",
    "\n",
    "arr = np.array([[1, 2, 3], [4, 5, 6], [7, 8, 9]])\n",
    "\n",
    "print(\"Array:\\n\", arr)\n",
    "print(\"Shape:\", arr.shape)           # Dimensions\n",
    "print(\"Size:\", arr.size)             # Total elements\n",
    "print(\"Number of dimensions:\", arr.ndim)\n",
    "print(\"Data type:\", arr.dtype)\n",
    "print(\"Item size (bytes):\", arr.itemsize)\n",
    "print(\"Total bytes:\", arr.nbytes)\n",
    "print(\"Strides:\", arr.strides)       # Bytes to step in each dimension"
   ]
  },
  {
   "cell_type": "markdown",
   "id": "85b55433",
   "metadata": {},
   "source": [
    "## Array Operations {#array-operations}"
   ]
  },
  {
   "cell_type": "markdown",
   "id": "fa17e26e",
   "metadata": {},
   "source": [
    "Arithmetic Operations"
   ]
  },
  {
   "cell_type": "code",
   "execution_count": 18,
   "id": "a3bbab80",
   "metadata": {},
   "outputs": [
    {
     "name": "stdout",
     "output_type": "stream",
     "text": [
      "a + b = [ 6  8 10 12]\n",
      "a - b = [-4 -4 -4 -4]\n",
      "a * b = [ 5 12 21 32]\n",
      "a / b = [0.2        0.33333333 0.42857143 0.5       ]\n",
      "a ** 2 = [ 1  4  9 16]\n",
      "a % 2 = [1 0 1 0]\n",
      "a + 10 = [11 12 13 14]\n",
      "a * 2 = [2 4 6 8]\n"
     ]
    }
   ],
   "source": [
    "import numpy as np\n",
    "\n",
    "a = np.array([1, 2, 3, 4])\n",
    "b = np.array([5, 6, 7, 8])\n",
    "\n",
    "print(\"a + b =\", a + b)      # Addition\n",
    "print(\"a - b =\", a - b)      # Subtraction\n",
    "print(\"a * b =\", a * b)      # Multiplication\n",
    "print(\"a / b =\", a / b)      # Division\n",
    "print(\"a ** 2 =\", a ** 2)    # Power\n",
    "print(\"a % 2 =\", a % 2)      # Modulus\n",
    "\n",
    "# Scalar operations\n",
    "print(\"a + 10 =\", a + 10)\n",
    "print(\"a * 2 =\", a * 2)\n"
   ]
  },
  {
   "cell_type": "code",
   "execution_count": 22,
   "id": "9f9bbddc",
   "metadata": {},
   "outputs": [
    {
     "name": "stdout",
     "output_type": "stream",
     "text": [
      "[[ 1  4]\n",
      " [ 9 16]]\n"
     ]
    }
   ],
   "source": [
    "a = [[1,2],[3,4]]\n",
    "arr_a = np.array(a)\n",
    "b = [[1,2],[3,4]]\n",
    "arr_b = np.array(b)\n",
    "print(arr_a * arr_b)"
   ]
  },
  {
   "cell_type": "markdown",
   "id": "52580509",
   "metadata": {},
   "source": [
    "Comparison Operations"
   ]
  },
  {
   "cell_type": "code",
   "execution_count": 23,
   "id": "cf8068c7",
   "metadata": {},
   "outputs": [
    {
     "name": "stdout",
     "output_type": "stream",
     "text": [
      "a == b: [False  True False  True]\n",
      "a > b: [False False  True False]\n",
      "a <= b: [ True  True False  True]\n"
     ]
    }
   ],
   "source": [
    "a = np.array([1, 2, 3, 4])\n",
    "b = np.array([4, 2, 2, 4])\n",
    "\n",
    "print(\"a == b:\", a == b)\n",
    "print(\"a > b:\", a > b)\n",
    "print(\"a <= b:\", a <= b)"
   ]
  },
  {
   "cell_type": "markdown",
   "id": "95424d00",
   "metadata": {},
   "source": [
    "##  Indexing and Slicing {#indexing-slicing}"
   ]
  },
  {
   "cell_type": "markdown",
   "id": "eccb9f73",
   "metadata": {},
   "source": [
    "Basic Indexing"
   ]
  },
  {
   "cell_type": "code",
   "execution_count": 25,
   "id": "8d6b7012",
   "metadata": {},
   "outputs": [
    {
     "name": "stdout",
     "output_type": "stream",
     "text": [
      "arr[0]: 10\n",
      "arr[-1]: 50\n",
      "arr[1:4]: [20 30 40]\n",
      "arr[::2]: [10 30 50]\n"
     ]
    }
   ],
   "source": [
    "import numpy as np\n",
    "\n",
    "arr = np.array([10, 20, 30, 40, 50])\n",
    "\n",
    "print(\"arr[0]:\", arr[0])        # First element\n",
    "print(\"arr[-1]:\", arr[-1])      # Last element\n",
    "print(\"arr[1:4]:\", arr[1:4])    # Slice from index 1 to 3\n",
    "print(\"arr[::2]:\", arr[::2])    # Every second element"
   ]
  },
  {
   "cell_type": "markdown",
   "id": "f29c672a",
   "metadata": {},
   "source": [
    "2D Array Indexing"
   ]
  },
  {
   "cell_type": "code",
   "execution_count": 32,
   "id": "c8c7ae18",
   "metadata": {},
   "outputs": [
    {
     "name": "stdout",
     "output_type": "stream",
     "text": [
      "Original array:\n",
      " [[1 2 3]\n",
      " [4 5 6]\n",
      " [7 8 9]]\n",
      "arr_2d[0, 1]: 2\n",
      "arr_2d[1, :]: [4 5 6]\n",
      "arr_2d[:, 2]: [3 6 9]\n",
      "arr_2d[0:2, 1:3]:\n",
      " [[2 3]\n",
      " [5 6]]\n"
     ]
    }
   ],
   "source": [
    "arr_2d = np.array([[1, 2, 3], [4, 5, 6], [7, 8, 9]])\n",
    "\n",
    "print(\"Original array:\\n\", arr_2d)\n",
    "print(\"arr_2d[0, 1]:\", arr_2d[0, 1])        # Row 0, Column 1\n",
    "print(\"arr_2d[1, :]:\", arr_2d[1, :])        # Entire row 1\n",
    "print(\"arr_2d[:, 2]:\", arr_2d[:, 2])        # Entire column 2\n",
    "print(\"arr_2d[0:2, 1:3]:\\n\", arr_2d[0:2, 1:3])  # Submatrix"
   ]
  },
  {
   "cell_type": "markdown",
   "id": "067f731c",
   "metadata": {},
   "source": [
    "Boolean Indexing"
   ]
  },
  {
   "cell_type": "code",
   "execution_count": 34,
   "id": "46181ac2",
   "metadata": {},
   "outputs": [
    {
     "name": "stdout",
     "output_type": "stream",
     "text": [
      "Mask: [False False  True  True  True  True False False False]\n",
      "Elements greater than 5: [6 7 8 9]\n",
      "Elements between 3 and 7: [4 5 6]\n"
     ]
    }
   ],
   "source": [
    "arr = np.array([ 4, 5, 6, 7, 8, 9, 1, 2, 3])\n",
    "\n",
    "# Boolean indexing\n",
    "mask = arr > 5\n",
    "print(\"Mask:\", mask)\n",
    "print(\"Elements greater than 5:\", arr[mask])\n",
    "\n",
    "# Multiple conditions\n",
    "mask2 = (arr > 3) & (arr < 7)\n",
    "print(\"Elements between 3 and 7:\", arr[mask2])"
   ]
  },
  {
   "cell_type": "markdown",
   "id": "f19b03a9",
   "metadata": {},
   "source": [
    "Fancy Indexing"
   ]
  },
  {
   "cell_type": "code",
   "execution_count": 38,
   "id": "c5843191",
   "metadata": {},
   "outputs": [
    {
     "name": "stdout",
     "output_type": "stream",
     "text": [
      "Elements at indices 0, 2, 4: [10 30 50]\n",
      "Diagonal elements: [1 5 9]\n",
      "opp Diagonal elements: [3 5 7]\n"
     ]
    }
   ],
   "source": [
    "arr = np.array([10, 20, 30, 40, 50])\n",
    "\n",
    "# Using integer arrays for indexing\n",
    "indices = [0, 2, 4]\n",
    "print(\"Elements at indices 0, 2, 4:\", arr[indices])\n",
    "\n",
    "# 2D fancy indexing\n",
    "arr_2d = np.array([[1, 2, 3], [4, 5, 6], [7, 8, 9]])\n",
    "rows = [0, 1, 2]\n",
    "cols = [0, 1, 2]\n",
    "print(\"Diagonal elements:\", arr_2d[rows, cols])\n",
    "\n",
    "# 2D fancy indexing\n",
    "arr_2d = np.array([[1, 2, 3], [4, 5, 6], [7, 8, 9]])\n",
    "rows = [0, 1, 2]\n",
    "cols = [2, 1, 0]\n",
    "print(\"opp Diagonal elements:\", arr_2d[rows, cols])"
   ]
  },
  {
   "cell_type": "markdown",
   "id": "40d8968d",
   "metadata": {},
   "source": [
    "## Array Manipulation "
   ]
  },
  {
   "cell_type": "markdown",
   "id": "48f7d9ea",
   "metadata": {},
   "source": [
    "Reshaping Arrays"
   ]
  },
  {
   "cell_type": "code",
   "execution_count": null,
   "id": "0dd179d5",
   "metadata": {},
   "outputs": [
    {
     "name": "stdout",
     "output_type": "stream",
     "text": [
      "Original array: [ 0  1  2  3  4  5  6  7  8  9 10 11]\n",
      "Reshaped (3x4):\n",
      " [[ 0  1  2  3]\n",
      " [ 4  5  6  7]\n",
      " [ 8  9 10 11]]\n",
      "Flattened: [ 0  1  2  3  4  5  6  7  8  9 10 11]\n",
      "Auto reshape (2x6):\n",
      " [[ 0  1  2  3  4  5]\n",
      " [ 6  7  8  9 10 11]]\n"
     ]
    }
   ],
   "source": [
    "import numpy as np\n",
    "\n",
    "arr = np.arange(12)\n",
    "print(\"Original array:\", arr)\n",
    "\n",
    "# Reshape to 3x4\n",
    "reshaped = arr.reshape(3, 4)\n",
    "print(\"Reshaped (3x4):\\n\", reshaped)\n",
    "\n",
    "# Flatten array\n",
    "flattened = reshaped.flatten()\n",
    "print(\"Flattened:\", flattened)\n",
    "\n",
    "# Reshape with -1 (automatic dimension)\n",
    "auto_reshape = arr.reshape(2, -1)  # -1 means \"whatever is needed\"\n",
    "print(\"Auto reshape (2x6):\\n\", auto_reshape)\n",
    "arr.reshape\n"
   ]
  },
  {
   "cell_type": "code",
   "execution_count": null,
   "id": "fa37c408",
   "metadata": {},
   "outputs": [],
   "source": []
  }
 ],
 "metadata": {
  "kernelspec": {
   "display_name": "Python 3",
   "language": "python",
   "name": "python3"
  },
  "language_info": {
   "codemirror_mode": {
    "name": "ipython",
    "version": 3
   },
   "file_extension": ".py",
   "mimetype": "text/x-python",
   "name": "python",
   "nbconvert_exporter": "python",
   "pygments_lexer": "ipython3",
   "version": "3.12.0"
  }
 },
 "nbformat": 4,
 "nbformat_minor": 5
}
